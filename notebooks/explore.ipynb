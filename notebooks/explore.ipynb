{
 "cells": [
  {
   "cell_type": "code",
   "execution_count": 27,
   "id": "a7bbde33",
   "metadata": {},
   "outputs": [],
   "source": [
    "import pandas as pd\n",
    "import numpy as np\n",
    "from sentence_transformers import SentenceTransformer\n",
    "import faiss\n",
    "import matplotlib.pyplot as plt\n",
    "from sklearn.decomposition import PCA\n",
    "import os"
   ]
  },
  {
   "cell_type": "code",
   "execution_count": 15,
   "id": "2a5df9fd",
   "metadata": {},
   "outputs": [],
   "source": [
    "df = pd.read_csv(\"../data/raw/recipes.csv\")\n",
    "df = df.set_index('RecipeId')"
   ]
  },
  {
   "cell_type": "code",
   "execution_count": 16,
   "id": "5d9d999d",
   "metadata": {},
   "outputs": [
    {
     "name": "stdout",
     "output_type": "stream",
     "text": [
      "<class 'pandas.core.frame.DataFrame'>\n",
      "Index: 522517 entries, 38 to 541383\n",
      "Data columns (total 27 columns):\n",
      " #   Column                      Non-Null Count   Dtype  \n",
      "---  ------                      --------------   -----  \n",
      " 0   Name                        522517 non-null  object \n",
      " 1   AuthorId                    522517 non-null  int64  \n",
      " 2   AuthorName                  522517 non-null  object \n",
      " 3   CookTime                    439972 non-null  object \n",
      " 4   PrepTime                    522517 non-null  object \n",
      " 5   TotalTime                   522517 non-null  object \n",
      " 6   DatePublished               522517 non-null  object \n",
      " 7   Description                 522512 non-null  object \n",
      " 8   Images                      522516 non-null  object \n",
      " 9   RecipeCategory              521766 non-null  object \n",
      " 10  Keywords                    505280 non-null  object \n",
      " 11  RecipeIngredientQuantities  522514 non-null  object \n",
      " 12  RecipeIngredientParts       522517 non-null  object \n",
      " 13  AggregatedRating            269294 non-null  float64\n",
      " 14  ReviewCount                 275028 non-null  float64\n",
      " 15  Calories                    522517 non-null  float64\n",
      " 16  FatContent                  522517 non-null  float64\n",
      " 17  SaturatedFatContent         522517 non-null  float64\n",
      " 18  CholesterolContent          522517 non-null  float64\n",
      " 19  SodiumContent               522517 non-null  float64\n",
      " 20  CarbohydrateContent         522517 non-null  float64\n",
      " 21  FiberContent                522517 non-null  float64\n",
      " 22  SugarContent                522517 non-null  float64\n",
      " 23  ProteinContent              522517 non-null  float64\n",
      " 24  RecipeServings              339606 non-null  float64\n",
      " 25  RecipeYield                 174446 non-null  object \n",
      " 26  RecipeInstructions          522517 non-null  object \n",
      "dtypes: float64(12), int64(1), object(14)\n",
      "memory usage: 111.6+ MB\n"
     ]
    }
   ],
   "source": [
    "df.info()"
   ]
  },
  {
   "cell_type": "code",
   "execution_count": 19,
   "id": "20943f7c",
   "metadata": {},
   "outputs": [
    {
     "data": {
      "text/plain": [
       "<bound method NDFrame.describe of                                                       Name    AuthorId  \\\n",
       "RecipeId                                                                 \n",
       "38                       Low-Fat Berry Blue Frozen Dessert        1533   \n",
       "39                                                 Biryani        1567   \n",
       "40                                           Best Lemonade        1566   \n",
       "41                          Carina's Tofu-Vegetable Kebabs        1586   \n",
       "42                                            Cabbage Soup        1538   \n",
       "...                                                    ...         ...   \n",
       "541379                      Meg's Fresh Ginger Gingerbread  2002090414   \n",
       "541380    Roast Prime Rib au Poivre with Mixed Peppercorns      211566   \n",
       "541381                               Kirshwasser Ice Cream  2001131545   \n",
       "541382            Quick & Easy Asian Cucumber Salmon Rolls  2001004241   \n",
       "541383                             Spicy Baked Scotch Eggs      188099   \n",
       "\n",
       "              AuthorName CookTime PrepTime TotalTime         DatePublished  \\\n",
       "RecipeId                                                                     \n",
       "38                Dancer    PT24H    PT45M  PT24H45M  1999-08-09T21:46:00Z   \n",
       "39              elly9812    PT25M     PT4H   PT4H25M  1999-08-29T13:12:00Z   \n",
       "40        Stephen Little     PT5M    PT30M     PT35M  1999-09-05T19:52:00Z   \n",
       "41               Cyclopz    PT20M    PT24H  PT24H20M  1999-09-03T14:54:00Z   \n",
       "42             Duckie067    PT30M    PT20M     PT50M  1999-09-19T06:19:00Z   \n",
       "...                  ...      ...      ...       ...                   ...   \n",
       "541379             rdsxc    PT35M     PT1H   PT1H35M  2020-12-22T15:27:00Z   \n",
       "541380      Denver cooks     PT3H    PT30M   PT3H30M  2020-12-22T15:32:00Z   \n",
       "541381       Jonathan F.     PT3H     PT1H      PT4H  2020-12-22T15:33:00Z   \n",
       "541382         CLUBFOODY      NaN    PT15M     PT15M  2020-12-22T22:11:00Z   \n",
       "541383      Chef LauraMD    PT25M    PT15M     PT40M  2020-12-22T22:12:00Z   \n",
       "\n",
       "                                                Description  \\\n",
       "RecipeId                                                      \n",
       "38        Make and share this Low-Fat Berry Blue Frozen ...   \n",
       "39        Make and share this Biryani recipe from Food.com.   \n",
       "40        This is from one of my  first Good House Keepi...   \n",
       "41        This dish is best prepared a day in advance to...   \n",
       "42        Make and share this Cabbage Soup recipe from F...   \n",
       "...                                                     ...   \n",
       "541379    Make and share this Meg's Fresh Ginger Gingerb...   \n",
       "541380    White, black, green, and pink peppercorns add ...   \n",
       "541381    Make and share this Kirshwasser Ice Cream reci...   \n",
       "541382    Extremely quick and easy to make, these are gr...   \n",
       "541383    Great way to have hard boiled eggs and crispy,...   \n",
       "\n",
       "                                                     Images   RecipeCategory  \\\n",
       "RecipeId                                                                       \n",
       "38        c(\"https://img.sndimg.com/food/image/upload/w_...  Frozen Desserts   \n",
       "39        c(\"https://img.sndimg.com/food/image/upload/w_...   Chicken Breast   \n",
       "40        c(\"https://img.sndimg.com/food/image/upload/w_...        Beverages   \n",
       "41        c(\"https://img.sndimg.com/food/image/upload/w_...         Soy/Tofu   \n",
       "42        \"https://img.sndimg.com/food/image/upload/w_55...        Vegetable   \n",
       "...                                                     ...              ...   \n",
       "541379                                         character(0)          Dessert   \n",
       "541380    \"https://img.sndimg.com/food/image/upload/w_55...   Very Low Carbs   \n",
       "541381                                         character(0)        Ice Cream   \n",
       "541382    \"https://img.sndimg.com/food/image/upload/w_55...         Canadian   \n",
       "541383                                         character(0)        Breakfast   \n",
       "\n",
       "          ... SaturatedFatContent CholesterolContent SodiumContent  \\\n",
       "RecipeId  ...                                                        \n",
       "38        ...                 1.3                8.0          29.8   \n",
       "39        ...                16.6              372.8         368.4   \n",
       "40        ...                 0.0                0.0           1.8   \n",
       "41        ...                 3.8                0.0        1558.6   \n",
       "42        ...                 0.1                0.0         959.3   \n",
       "...       ...                 ...                ...           ...   \n",
       "541379    ...                 7.6               54.4         278.2   \n",
       "541380    ...                71.4              433.8         766.3   \n",
       "541381    ...                72.6              470.9         192.5   \n",
       "541382    ...                 0.1                2.9         100.5   \n",
       "541383    ...                22.2             1769.7        1318.6   \n",
       "\n",
       "          CarbohydrateContent  FiberContent  SugarContent  ProteinContent  \\\n",
       "RecipeId                                                                    \n",
       "38                       37.1           3.6          30.2             3.2   \n",
       "39                       84.4           9.0          20.4            63.4   \n",
       "40                       81.5           0.4          77.2             0.3   \n",
       "41                       64.2          17.3          32.1            29.3   \n",
       "42                       25.1           4.8          17.7             4.3   \n",
       "...                       ...           ...           ...             ...   \n",
       "541379                   48.5           0.8          22.8             3.9   \n",
       "541380                    3.2           0.7           0.1           117.0   \n",
       "541381                   33.9           0.0          17.3            12.8   \n",
       "541382                    0.3           0.0           0.1             2.4   \n",
       "541383                   29.7           1.3           6.7            76.4   \n",
       "\n",
       "          RecipeServings     RecipeYield  \\\n",
       "RecipeId                                   \n",
       "38                   4.0             NaN   \n",
       "39                   6.0             NaN   \n",
       "40                   4.0             NaN   \n",
       "41                   2.0        4 kebabs   \n",
       "42                   4.0             NaN   \n",
       "...                  ...             ...   \n",
       "541379               8.0  1 8x8 cake pan   \n",
       "541380               8.0         1 Roast   \n",
       "541381               6.0             NaN   \n",
       "541382               NaN        20 rolls   \n",
       "541383               NaN             NaN   \n",
       "\n",
       "                                         RecipeInstructions  \n",
       "RecipeId                                                     \n",
       "38        c(\"Toss 2 cups berries with sugar.\", \"Let stan...  \n",
       "39        c(\"Soak saffron in warm milk for 5 minutes and...  \n",
       "40        c(\"Into a 1 quart Jar with tight fitting lid, ...  \n",
       "41        c(\"Drain the tofu, carefully squeezing out exc...  \n",
       "42        c(\"Mix everything together and bring to a boil...  \n",
       "...                                                     ...  \n",
       "541379    c(\"Preheat oven to 350&deg;F Grease an 8x8 cak...  \n",
       "541380    c(\"Position rack in center of oven and preheat...  \n",
       "541381    c(\"heat half and half and heavy cream to a sim...  \n",
       "541382    c(\"In a small bowl, combine mayo and wasabi pa...  \n",
       "541383    c(\"Mix sausage, panko, egg yolk and Wocestersh...  \n",
       "\n",
       "[522517 rows x 27 columns]>"
      ]
     },
     "execution_count": 19,
     "metadata": {},
     "output_type": "execute_result"
    }
   ],
   "source": [
    "df.describe"
   ]
  },
  {
   "cell_type": "code",
   "execution_count": 20,
   "id": "21a7bbff",
   "metadata": {},
   "outputs": [
    {
     "data": {
      "text/plain": [
       "Name                               0\n",
       "AuthorId                           0\n",
       "AuthorName                         0\n",
       "CookTime                       82545\n",
       "PrepTime                           0\n",
       "TotalTime                          0\n",
       "DatePublished                      0\n",
       "Description                        5\n",
       "Images                             1\n",
       "RecipeCategory                   751\n",
       "Keywords                       17237\n",
       "RecipeIngredientQuantities         3\n",
       "RecipeIngredientParts              0\n",
       "AggregatedRating              253223\n",
       "ReviewCount                   247489\n",
       "Calories                           0\n",
       "FatContent                         0\n",
       "SaturatedFatContent                0\n",
       "CholesterolContent                 0\n",
       "SodiumContent                      0\n",
       "CarbohydrateContent                0\n",
       "FiberContent                       0\n",
       "SugarContent                       0\n",
       "ProteinContent                     0\n",
       "RecipeServings                182911\n",
       "RecipeYield                   348071\n",
       "RecipeInstructions                 0\n",
       "dtype: int64"
      ]
     },
     "execution_count": 20,
     "metadata": {},
     "output_type": "execute_result"
    }
   ],
   "source": [
    "df.isna().sum()"
   ]
  },
  {
   "cell_type": "code",
   "execution_count": 22,
   "id": "53fec73e",
   "metadata": {},
   "outputs": [],
   "source": [
    "df = df.dropna(subset=[\"Name\", \"RecipeIngredientParts\", \"RecipeInstructions\"])\n"
   ]
  },
  {
   "cell_type": "code",
   "execution_count": 21,
   "id": "68550d59",
   "metadata": {},
   "outputs": [],
   "source": [
    "def clean_list_column(col):\n",
    "    return (\n",
    "        col.astype(str)\n",
    "        .str.replace(\"c\\\\(\", \"\", regex=True)\n",
    "        .str.replace(\"\\\\)\", \"\", regex=True)\n",
    "        .str.replace('\"', \"\", regex=False)\n",
    "        .str.replace(\",\", \" \", regex=False)\n",
    "        .str.replace(\"'\", \"\", regex=False)\n",
    "        .str.lower()\n",
    "    )\n",
    "\n",
    "df[\"ingredients\"] = clean_list_column(df[\"RecipeIngredientParts\"])"
   ]
  },
  {
   "cell_type": "code",
   "execution_count": 23,
   "id": "4fcdc1a0",
   "metadata": {},
   "outputs": [],
   "source": [
    "df[\"steps\"] = clean_list_column(df[\"RecipeInstructions\"])\n",
    "df[\"name\"] = df[\"Name\"].fillna(\"\").str.lower()"
   ]
  },
  {
   "cell_type": "code",
   "execution_count": 24,
   "id": "b4d8d1df",
   "metadata": {},
   "outputs": [],
   "source": [
    "# Combine fields for RAG\n",
    "df[\"combined\"] = df[\"name\"] + \" \" + df[\"ingredients\"] + \" \" + df[\"steps\"]\n"
   ]
  },
  {
   "cell_type": "code",
   "execution_count": 25,
   "id": "ffa90e1c",
   "metadata": {},
   "outputs": [],
   "source": [
    "# Select final columns\n",
    "df_clean = df[[\"name\", \"ingredients\", \"steps\", \"combined\"]].copy()\n"
   ]
  },
  {
   "cell_type": "code",
   "execution_count": 29,
   "id": "fe01df03",
   "metadata": {},
   "outputs": [
    {
     "name": "stdout",
     "output_type": "stream",
     "text": [
      "✅ Cleaned dataset saved to: data/processed/recipes_cleaned.csv\n"
     ]
    }
   ],
   "source": [
    "# Save cleaned dataset\n",
    "CLEANED_PATH = \"data/processed/recipes_cleaned.csv\"\n",
    "os.makedirs(\"data/processed\", exist_ok=True)\n",
    "df_clean.to_csv(CLEANED_PATH, index=False)\n",
    "\n",
    "print(\"✅ Cleaned dataset saved to:\", CLEANED_PATH)"
   ]
  },
  {
   "cell_type": "code",
   "execution_count": null,
   "id": "ef3074d4",
   "metadata": {},
   "outputs": [],
   "source": []
  },
  {
   "cell_type": "code",
   "execution_count": null,
   "id": "15ebc0e2",
   "metadata": {},
   "outputs": [],
   "source": []
  },
  {
   "cell_type": "code",
   "execution_count": null,
   "id": "ecbc0b65",
   "metadata": {},
   "outputs": [],
   "source": [
    "# Step 3: Embed & index\n",
    "print(\"🧠 Embedding...\")\n",
    "index, model, embeddings = build_index(df_clean)"
   ]
  },
  {
   "cell_type": "code",
   "execution_count": null,
   "id": "238f6765",
   "metadata": {},
   "outputs": [],
   "source": [
    "# Step 4: Save artifacts\n",
    "print(\"💾 Saving index and data...\")\n",
    "save_index(index, \"models/faiss.index\")\n",
    "save_embeddings(embeddings, \"models/embeddings.npy\")\n",
    "save_dataframe(df_clean, \"data/processed/recipes_cleaned.csv\")\n",
    "\n",
    "print(\"✅ All done! You're ready to query FlavorBot.\")"
   ]
  },
  {
   "cell_type": "code",
   "execution_count": null,
   "id": "53b06190",
   "metadata": {},
   "outputs": [],
   "source": []
  },
  {
   "cell_type": "code",
   "execution_count": null,
   "id": "21a1773c",
   "metadata": {},
   "outputs": [],
   "source": []
  },
  {
   "cell_type": "code",
   "execution_count": null,
   "id": "7c2f192e",
   "metadata": {},
   "outputs": [],
   "source": []
  }
 ],
 "metadata": {
  "kernelspec": {
   "display_name": "myenv",
   "language": "python",
   "name": "python3"
  },
  "language_info": {
   "codemirror_mode": {
    "name": "ipython",
    "version": 3
   },
   "file_extension": ".py",
   "mimetype": "text/x-python",
   "name": "python",
   "nbconvert_exporter": "python",
   "pygments_lexer": "ipython3",
   "version": "3.12.9"
  }
 },
 "nbformat": 4,
 "nbformat_minor": 5
}
