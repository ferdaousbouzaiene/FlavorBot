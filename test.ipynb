{
 "cells": [
  {
   "cell_type": "code",
   "execution_count": 2,
   "id": "f3030264",
   "metadata": {},
   "outputs": [],
   "source": [
    "import pandas as pd\n",
    "from src.utils.load_data import load_and_clean_foodcom\n"
   ]
  },
  {
   "cell_type": "markdown",
   "id": "4760ac53",
   "metadata": {},
   "source": [
    "Load and clean data"
   ]
  },
  {
   "cell_type": "code",
   "execution_count": null,
   "id": "d6f0ba27",
   "metadata": {},
   "outputs": [],
   "source": [
    "df_clean = load_and_clean_foodcom()\n",
    "df_clean.sample(5)"
   ]
  },
  {
   "cell_type": "markdown",
   "id": "cadd76b9",
   "metadata": {},
   "source": [
    "Embedd"
   ]
  },
  {
   "cell_type": "code",
   "execution_count": 4,
   "id": "9a9b0aaa",
   "metadata": {},
   "outputs": [
    {
     "name": "stderr",
     "output_type": "stream",
     "text": [
      "/Users/ferdaousbouzaiene/.pyenv/versions/3.12.9/envs/myenv/lib/python3.12/site-packages/tqdm/auto.py:21: TqdmWarning: IProgress not found. Please update jupyter and ipywidgets. See https://ipywidgets.readthedocs.io/en/stable/user_install.html\n",
      "  from .autonotebook import tqdm as notebook_tqdm\n",
      "Batches: 100%|██████████| 16329/16329 [53:51<00:00,  5.05it/s]    \n"
     ]
    }
   ],
   "source": [
    "from src.utils.load_data import load_and_clean_foodcom\n",
    "from src.utils.embed import build_index, save_index, save_embeddings, save_dataframe\n",
    "\n",
    "# Embed and index\n",
    "index, model, embeddings = build_index(df_clean)\n",
    "\n",
    "# Save everything\n",
    "save_index(index, \"models/faiss.index\")\n",
    "save_embeddings(embeddings, \"models/embeddings.npy\")\n",
    "save_dataframe(df_clean, \"data/processed/recipes_cleaned.csv\")\n"
   ]
  },
  {
   "cell_type": "markdown",
   "id": "394317bd",
   "metadata": {},
   "source": [
    "retriever"
   ]
  },
  {
   "cell_type": "code",
   "execution_count": 12,
   "id": "faa9d690",
   "metadata": {},
   "outputs": [
    {
     "name": "stderr",
     "output_type": "stream",
     "text": [
      "INFO:sentence_transformers.SentenceTransformer:Use pytorch device_name: mps\n",
      "INFO:sentence_transformers.SentenceTransformer:Load pretrained SentenceTransformer: all-MiniLM-L6-v2\n"
     ]
    }
   ],
   "source": [
    "from src.tools.rag import RecipeRetriever\n",
    "import logging\n",
    "logging.basicConfig(level=logging.INFO)\n",
    "\n",
    "retriever = RecipeRetriever(\n",
    "    index_path=\"models/faiss.index\",\n",
    "    data_path=\"data/processed/recipes_cleaned.csv\"\n",
    ")"
   ]
  },
  {
   "cell_type": "code",
   "execution_count": 13,
   "id": "7daf3421",
   "metadata": {},
   "outputs": [
    {
     "name": "stderr",
     "output_type": "stream",
     "text": [
      "Batches: 100%|██████████| 1/1 [00:00<00:00,  2.31it/s]"
     ]
    },
    {
     "name": "stdout",
     "output_type": "stream",
     "text": [
      "🍽️ spinach with pine nuts\n",
      "🧂 Ingredients: spinach  olive oil  garlic cloves  water  salt  fresh ground black pepper  pine nuts  red pepper flakes\n",
      "📋 Steps: place olive oil  garlic  and water in a skillet on medium high heat.  once skillet is hot  add spinach.  sprinkle with salt and black pepper.  stir and cook until spinach is wilted.  adjust heat to low or simmer.  add pine nuts.  cook covered for 1 m ...\n",
      "==================================================\n",
      "🍽️ spinach and feta pasta with olives\n",
      "🧂 Ingredients: spinach  garlic cloves  olive oil  pine nuts  nutmeg  black olives\n",
      "📋 Steps: boil the pasta according to pack instructions. meanwhile  boil a kettle of water  then slowly pour over the spinach in a colander until it wilts. shake off the excess water  then put the spinach into a food processor.  add the garlic  oil  half of th ...\n",
      "==================================================\n",
      "🍽️ spinach brownie bites (from scratch)\n",
      "🧂 Ingredients: spinach  unsalted butter  brown sugar  cocoa powder  sugar  vanilla extract  eggs  whole wheat pastry flour  flour  baking powder  salt  carrot juice\n",
      "📋 Steps: preheat oven to 350°f.  steam spinach until soft  drain and set aside.  using a glass or metal mixing bowl on top of a saucepan 1/2 full with water (double broiler method  break chocolate into small pieces and add butter  melt over hot but not boilin ...\n",
      "==================================================\n"
     ]
    },
    {
     "name": "stderr",
     "output_type": "stream",
     "text": [
      "\n"
     ]
    }
   ],
   "source": [
    "results = retriever.query(\"What can I cook with spinach and chocolate and wood?\", k=3)\n",
    "\n",
    "for r in results:\n",
    "    print(\"🍽️\", r['name'])\n",
    "    print(\"🧂 Ingredients:\", r['ingredients'])\n",
    "    print(\"📋 Steps:\", r['steps'][:250], \"...\")\n",
    "    print(\"=\"*50)"
   ]
  },
  {
   "cell_type": "code",
   "execution_count": 18,
   "id": "fb369d25",
   "metadata": {},
   "outputs": [
    {
     "ename": "TypeError",
     "evalue": "StateGraph.__init__() missing 1 required positional argument: 'state_schema'",
     "output_type": "error",
     "traceback": [
      "\u001b[31m---------------------------------------------------------------------------\u001b[39m",
      "\u001b[31mTypeError\u001b[39m                                 Traceback (most recent call last)",
      "\u001b[36mCell\u001b[39m\u001b[36m \u001b[39m\u001b[32mIn[18]\u001b[39m\u001b[32m, line 3\u001b[39m\n\u001b[32m      1\u001b[39m \u001b[38;5;28;01mfrom\u001b[39;00m\u001b[38;5;250m \u001b[39m\u001b[34;01msrc\u001b[39;00m\u001b[34;01m.\u001b[39;00m\u001b[34;01magents\u001b[39;00m\u001b[34;01m.\u001b[39;00m\u001b[34;01mflavorbot\u001b[39;00m\u001b[38;5;250m \u001b[39m\u001b[38;5;28;01mimport\u001b[39;00m run_flavorbot\n\u001b[32m----> \u001b[39m\u001b[32m3\u001b[39m response = \u001b[43mrun_flavorbot\u001b[49m\u001b[43m(\u001b[49m\u001b[33;43m\"\u001b[39;49m\u001b[33;43mWhat can I cook with tofu and soy sauce?\u001b[39;49m\u001b[33;43m\"\u001b[39;49m\u001b[43m)\u001b[49m\n\u001b[32m      4\u001b[39m \u001b[38;5;28mprint\u001b[39m(response)\n",
      "\u001b[36mFile \u001b[39m\u001b[32m~/code/stuff/projects/FlavorBot/src/agents/flavorbot.py:43\u001b[39m, in \u001b[36mrun_flavorbot\u001b[39m\u001b[34m(input_text)\u001b[39m\n\u001b[32m     42\u001b[39m \u001b[38;5;28;01mdef\u001b[39;00m\u001b[38;5;250m \u001b[39m\u001b[34mrun_flavorbot\u001b[39m(input_text):\n\u001b[32m---> \u001b[39m\u001b[32m43\u001b[39m     graph = \u001b[43mbuild_graph\u001b[49m\u001b[43m(\u001b[49m\u001b[43m)\u001b[49m.compile()\n\u001b[32m     44\u001b[39m     state = {\u001b[33m\"\u001b[39m\u001b[33minput\u001b[39m\u001b[33m\"\u001b[39m: input_text}\n\u001b[32m     45\u001b[39m     result = graph.invoke(state)\n",
      "\u001b[36mFile \u001b[39m\u001b[32m~/code/stuff/projects/FlavorBot/src/agents/flavorbot.py:33\u001b[39m, in \u001b[36mbuild_graph\u001b[39m\u001b[34m()\u001b[39m\n\u001b[32m     32\u001b[39m \u001b[38;5;28;01mdef\u001b[39;00m\u001b[38;5;250m \u001b[39m\u001b[34mbuild_graph\u001b[39m():\n\u001b[32m---> \u001b[39m\u001b[32m33\u001b[39m     graph = \u001b[43mStateGraph\u001b[49m\u001b[43m(\u001b[49m\u001b[43m)\u001b[49m\n\u001b[32m     34\u001b[39m     graph.add_node(\u001b[33m\"\u001b[39m\u001b[33mretrieve\u001b[39m\u001b[33m\"\u001b[39m, rag_node)\n\u001b[32m     35\u001b[39m     graph.add_node(\u001b[33m\"\u001b[39m\u001b[33msummarize\u001b[39m\u001b[33m\"\u001b[39m, summarize_node)\n",
      "\u001b[31mTypeError\u001b[39m: StateGraph.__init__() missing 1 required positional argument: 'state_schema'"
     ]
    }
   ],
   "source": [
    "from src.agents.flavorbot import run_flavorbot\n",
    "\n",
    "response = run_flavorbot(\"What can I cook with tofu and soy sauce?\")\n",
    "print(response)\n"
   ]
  },
  {
   "cell_type": "code",
   "execution_count": null,
   "id": "57089092",
   "metadata": {},
   "outputs": [],
   "source": []
  },
  {
   "cell_type": "code",
   "execution_count": null,
   "id": "a133f805",
   "metadata": {},
   "outputs": [],
   "source": []
  }
 ],
 "metadata": {
  "kernelspec": {
   "display_name": "myenv",
   "language": "python",
   "name": "python3"
  },
  "language_info": {
   "codemirror_mode": {
    "name": "ipython",
    "version": 3
   },
   "file_extension": ".py",
   "mimetype": "text/x-python",
   "name": "python",
   "nbconvert_exporter": "python",
   "pygments_lexer": "ipython3",
   "version": "3.12.9"
  }
 },
 "nbformat": 4,
 "nbformat_minor": 5
}
