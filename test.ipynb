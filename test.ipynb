{
 "cells": [
  {
   "cell_type": "code",
   "execution_count": 1,
   "id": "f3030264",
   "metadata": {},
   "outputs": [],
   "source": [
    "import pandas as pd\n",
    "from src.utils.load_data import load_and_clean_foodcom\n"
   ]
  },
  {
   "cell_type": "markdown",
   "id": "4760ac53",
   "metadata": {},
   "source": [
    "Load and clean data"
   ]
  },
  {
   "cell_type": "code",
   "execution_count": 2,
   "id": "d6f0ba27",
   "metadata": {},
   "outputs": [
    {
     "ename": "KeyboardInterrupt",
     "evalue": "",
     "output_type": "error",
     "traceback": [
      "\u001b[31m---------------------------------------------------------------------------\u001b[39m",
      "\u001b[31mKeyboardInterrupt\u001b[39m                         Traceback (most recent call last)",
      "\u001b[36mCell\u001b[39m\u001b[36m \u001b[39m\u001b[32mIn[2]\u001b[39m\u001b[32m, line 1\u001b[39m\n\u001b[32m----> \u001b[39m\u001b[32m1\u001b[39m df_clean = \u001b[43mload_and_clean_foodcom\u001b[49m\u001b[43m(\u001b[49m\u001b[43m)\u001b[49m\n\u001b[32m      2\u001b[39m df_clean.sample(\u001b[32m5\u001b[39m)\n",
      "\u001b[36mFile \u001b[39m\u001b[32m~/code/stuff/projects/FlavorBot/src/utils/load_data.py:10\u001b[39m, in \u001b[36mload_and_clean_foodcom\u001b[39m\u001b[34m(raw_path, save_path, save)\u001b[39m\n\u001b[32m      4\u001b[39m \u001b[38;5;28;01mdef\u001b[39;00m\u001b[38;5;250m \u001b[39m\u001b[34mload_and_clean_foodcom\u001b[39m(\n\u001b[32m      5\u001b[39m     raw_path=\u001b[33m\"\u001b[39m\u001b[33mdata/raw/recipes.csv\u001b[39m\u001b[33m\"\u001b[39m,\n\u001b[32m      6\u001b[39m     save_path=\u001b[33m\"\u001b[39m\u001b[33mdata/processed/recipes_cleaned.csv\u001b[39m\u001b[33m\"\u001b[39m,\n\u001b[32m      7\u001b[39m     save=\u001b[38;5;28;01mTrue\u001b[39;00m\n\u001b[32m      8\u001b[39m ):\n\u001b[32m      9\u001b[39m \u001b[38;5;250m    \u001b[39m\u001b[33;03m\"\"\"Load and clean Food.com dataset. Returns cleaned DataFrame.\"\"\"\u001b[39;00m\n\u001b[32m---> \u001b[39m\u001b[32m10\u001b[39m     df = \u001b[43mpd\u001b[49m\u001b[43m.\u001b[49m\u001b[43mread_csv\u001b[49m\u001b[43m(\u001b[49m\u001b[43mraw_path\u001b[49m\u001b[43m,\u001b[49m\u001b[43m \u001b[49m\u001b[43mindex_col\u001b[49m\u001b[43m=\u001b[49m\u001b[32;43m0\u001b[39;49m\u001b[43m)\u001b[49m\n\u001b[32m     12\u001b[39m     \u001b[38;5;66;03m# Drop rows missing critical fields\u001b[39;00m\n\u001b[32m     13\u001b[39m     df = df.dropna(subset=[\u001b[33m\"\u001b[39m\u001b[33mName\u001b[39m\u001b[33m\"\u001b[39m, \u001b[33m\"\u001b[39m\u001b[33mRecipeIngredientParts\u001b[39m\u001b[33m\"\u001b[39m, \u001b[33m\"\u001b[39m\u001b[33mRecipeInstructions\u001b[39m\u001b[33m\"\u001b[39m])\n",
      "\u001b[36mFile \u001b[39m\u001b[32m~/.pyenv/versions/3.12.9/envs/myenv/lib/python3.12/site-packages/pandas/io/parsers/readers.py:1026\u001b[39m, in \u001b[36mread_csv\u001b[39m\u001b[34m(filepath_or_buffer, sep, delimiter, header, names, index_col, usecols, dtype, engine, converters, true_values, false_values, skipinitialspace, skiprows, skipfooter, nrows, na_values, keep_default_na, na_filter, verbose, skip_blank_lines, parse_dates, infer_datetime_format, keep_date_col, date_parser, date_format, dayfirst, cache_dates, iterator, chunksize, compression, thousands, decimal, lineterminator, quotechar, quoting, doublequote, escapechar, comment, encoding, encoding_errors, dialect, on_bad_lines, delim_whitespace, low_memory, memory_map, float_precision, storage_options, dtype_backend)\u001b[39m\n\u001b[32m   1013\u001b[39m kwds_defaults = _refine_defaults_read(\n\u001b[32m   1014\u001b[39m     dialect,\n\u001b[32m   1015\u001b[39m     delimiter,\n\u001b[32m   (...)\u001b[39m\u001b[32m   1022\u001b[39m     dtype_backend=dtype_backend,\n\u001b[32m   1023\u001b[39m )\n\u001b[32m   1024\u001b[39m kwds.update(kwds_defaults)\n\u001b[32m-> \u001b[39m\u001b[32m1026\u001b[39m \u001b[38;5;28;01mreturn\u001b[39;00m \u001b[43m_read\u001b[49m\u001b[43m(\u001b[49m\u001b[43mfilepath_or_buffer\u001b[49m\u001b[43m,\u001b[49m\u001b[43m \u001b[49m\u001b[43mkwds\u001b[49m\u001b[43m)\u001b[49m\n",
      "\u001b[36mFile \u001b[39m\u001b[32m~/.pyenv/versions/3.12.9/envs/myenv/lib/python3.12/site-packages/pandas/io/parsers/readers.py:626\u001b[39m, in \u001b[36m_read\u001b[39m\u001b[34m(filepath_or_buffer, kwds)\u001b[39m\n\u001b[32m    623\u001b[39m     \u001b[38;5;28;01mreturn\u001b[39;00m parser\n\u001b[32m    625\u001b[39m \u001b[38;5;28;01mwith\u001b[39;00m parser:\n\u001b[32m--> \u001b[39m\u001b[32m626\u001b[39m     \u001b[38;5;28;01mreturn\u001b[39;00m \u001b[43mparser\u001b[49m\u001b[43m.\u001b[49m\u001b[43mread\u001b[49m\u001b[43m(\u001b[49m\u001b[43mnrows\u001b[49m\u001b[43m)\u001b[49m\n",
      "\u001b[36mFile \u001b[39m\u001b[32m~/.pyenv/versions/3.12.9/envs/myenv/lib/python3.12/site-packages/pandas/io/parsers/readers.py:1923\u001b[39m, in \u001b[36mTextFileReader.read\u001b[39m\u001b[34m(self, nrows)\u001b[39m\n\u001b[32m   1916\u001b[39m nrows = validate_integer(\u001b[33m\"\u001b[39m\u001b[33mnrows\u001b[39m\u001b[33m\"\u001b[39m, nrows)\n\u001b[32m   1917\u001b[39m \u001b[38;5;28;01mtry\u001b[39;00m:\n\u001b[32m   1918\u001b[39m     \u001b[38;5;66;03m# error: \"ParserBase\" has no attribute \"read\"\u001b[39;00m\n\u001b[32m   1919\u001b[39m     (\n\u001b[32m   1920\u001b[39m         index,\n\u001b[32m   1921\u001b[39m         columns,\n\u001b[32m   1922\u001b[39m         col_dict,\n\u001b[32m-> \u001b[39m\u001b[32m1923\u001b[39m     ) = \u001b[38;5;28;43mself\u001b[39;49m\u001b[43m.\u001b[49m\u001b[43m_engine\u001b[49m\u001b[43m.\u001b[49m\u001b[43mread\u001b[49m\u001b[43m(\u001b[49m\u001b[43m  \u001b[49m\u001b[38;5;66;43;03m# type: ignore[attr-defined]\u001b[39;49;00m\n\u001b[32m   1924\u001b[39m \u001b[43m        \u001b[49m\u001b[43mnrows\u001b[49m\n\u001b[32m   1925\u001b[39m \u001b[43m    \u001b[49m\u001b[43m)\u001b[49m\n\u001b[32m   1926\u001b[39m \u001b[38;5;28;01mexcept\u001b[39;00m \u001b[38;5;167;01mException\u001b[39;00m:\n\u001b[32m   1927\u001b[39m     \u001b[38;5;28mself\u001b[39m.close()\n",
      "\u001b[36mFile \u001b[39m\u001b[32m~/.pyenv/versions/3.12.9/envs/myenv/lib/python3.12/site-packages/pandas/io/parsers/c_parser_wrapper.py:234\u001b[39m, in \u001b[36mCParserWrapper.read\u001b[39m\u001b[34m(self, nrows)\u001b[39m\n\u001b[32m    232\u001b[39m \u001b[38;5;28;01mtry\u001b[39;00m:\n\u001b[32m    233\u001b[39m     \u001b[38;5;28;01mif\u001b[39;00m \u001b[38;5;28mself\u001b[39m.low_memory:\n\u001b[32m--> \u001b[39m\u001b[32m234\u001b[39m         chunks = \u001b[38;5;28;43mself\u001b[39;49m\u001b[43m.\u001b[49m\u001b[43m_reader\u001b[49m\u001b[43m.\u001b[49m\u001b[43mread_low_memory\u001b[49m\u001b[43m(\u001b[49m\u001b[43mnrows\u001b[49m\u001b[43m)\u001b[49m\n\u001b[32m    235\u001b[39m         \u001b[38;5;66;03m# destructive to chunks\u001b[39;00m\n\u001b[32m    236\u001b[39m         data = _concatenate_chunks(chunks)\n",
      "\u001b[36mFile \u001b[39m\u001b[32mpandas/_libs/parsers.pyx:838\u001b[39m, in \u001b[36mpandas._libs.parsers.TextReader.read_low_memory\u001b[39m\u001b[34m()\u001b[39m\n",
      "\u001b[36mFile \u001b[39m\u001b[32mpandas/_libs/parsers.pyx:905\u001b[39m, in \u001b[36mpandas._libs.parsers.TextReader._read_rows\u001b[39m\u001b[34m()\u001b[39m\n",
      "\u001b[36mFile \u001b[39m\u001b[32mpandas/_libs/parsers.pyx:874\u001b[39m, in \u001b[36mpandas._libs.parsers.TextReader._tokenize_rows\u001b[39m\u001b[34m()\u001b[39m\n",
      "\u001b[36mFile \u001b[39m\u001b[32mpandas/_libs/parsers.pyx:891\u001b[39m, in \u001b[36mpandas._libs.parsers.TextReader._check_tokenize_status\u001b[39m\u001b[34m()\u001b[39m\n",
      "\u001b[36mFile \u001b[39m\u001b[32mpandas/_libs/parsers.pyx:2053\u001b[39m, in \u001b[36mpandas._libs.parsers.raise_parser_error\u001b[39m\u001b[34m()\u001b[39m\n",
      "\u001b[36mFile \u001b[39m\u001b[32m<frozen codecs>:331\u001b[39m, in \u001b[36mgetstate\u001b[39m\u001b[34m(self)\u001b[39m\n",
      "\u001b[31mKeyboardInterrupt\u001b[39m: "
     ]
    }
   ],
   "source": [
    "df_clean = load_and_clean_foodcom()\n",
    "df_clean.sample(5)"
   ]
  },
  {
   "cell_type": "markdown",
   "id": "cadd76b9",
   "metadata": {},
   "source": [
    "Embedd"
   ]
  },
  {
   "cell_type": "code",
   "execution_count": null,
   "id": "9a9b0aaa",
   "metadata": {},
   "outputs": [
    {
     "name": "stderr",
     "output_type": "stream",
     "text": [
      "/Users/ferdaousbouzaiene/.pyenv/versions/3.12.9/envs/myenv/lib/python3.12/site-packages/tqdm/auto.py:21: TqdmWarning: IProgress not found. Please update jupyter and ipywidgets. See https://ipywidgets.readthedocs.io/en/stable/user_install.html\n",
      "  from .autonotebook import tqdm as notebook_tqdm\n",
      "Batches: 100%|██████████| 16329/16329 [53:51<00:00,  5.05it/s]    \n"
     ]
    }
   ],
   "source": [
    "from src.utils.load_data import load_and_clean_foodcom\n",
    "from src.utils.embed import build_index, save_index, save_embeddings, save_dataframe\n",
    "\n",
    "# Embed and index\n",
    "index, model, embeddings = build_index(df_clean)\n",
    "\n",
    "# Save everything\n",
    "save_index(index, \"models/faiss.index\")\n",
    "save_embeddings(embeddings, \"models/embeddings.npy\")\n",
    "save_dataframe(df_clean, \"data/processed/recipes_cleaned.csv\")\n"
   ]
  },
  {
   "cell_type": "markdown",
   "id": "394317bd",
   "metadata": {},
   "source": [
    "retriever"
   ]
  },
  {
   "cell_type": "code",
   "execution_count": null,
   "id": "faa9d690",
   "metadata": {},
   "outputs": [
    {
     "name": "stderr",
     "output_type": "stream",
     "text": [
      "INFO:sentence_transformers.SentenceTransformer:Use pytorch device_name: mps\n",
      "INFO:sentence_transformers.SentenceTransformer:Load pretrained SentenceTransformer: all-MiniLM-L6-v2\n"
     ]
    }
   ],
   "source": [
    "from src.tools.rag import RecipeRetriever\n",
    "import logging\n",
    "logging.basicConfig(level=logging.INFO)\n",
    "\n",
    "retriever = RecipeRetriever(\n",
    "    index_path=\"models/faiss.index\",\n",
    "    data_path=\"data/processed/recipes_cleaned.csv\"\n",
    ")"
   ]
  },
  {
   "cell_type": "code",
   "execution_count": null,
   "id": "7daf3421",
   "metadata": {},
   "outputs": [
    {
     "name": "stderr",
     "output_type": "stream",
     "text": [
      "Batches: 100%|██████████| 1/1 [00:00<00:00,  2.31it/s]"
     ]
    },
    {
     "name": "stdout",
     "output_type": "stream",
     "text": [
      "🍽️ spinach with pine nuts\n",
      "🧂 Ingredients: spinach  olive oil  garlic cloves  water  salt  fresh ground black pepper  pine nuts  red pepper flakes\n",
      "📋 Steps: place olive oil  garlic  and water in a skillet on medium high heat.  once skillet is hot  add spinach.  sprinkle with salt and black pepper.  stir and cook until spinach is wilted.  adjust heat to low or simmer.  add pine nuts.  cook covered for 1 m ...\n",
      "==================================================\n",
      "🍽️ spinach and feta pasta with olives\n",
      "🧂 Ingredients: spinach  garlic cloves  olive oil  pine nuts  nutmeg  black olives\n",
      "📋 Steps: boil the pasta according to pack instructions. meanwhile  boil a kettle of water  then slowly pour over the spinach in a colander until it wilts. shake off the excess water  then put the spinach into a food processor.  add the garlic  oil  half of th ...\n",
      "==================================================\n",
      "🍽️ spinach brownie bites (from scratch)\n",
      "🧂 Ingredients: spinach  unsalted butter  brown sugar  cocoa powder  sugar  vanilla extract  eggs  whole wheat pastry flour  flour  baking powder  salt  carrot juice\n",
      "📋 Steps: preheat oven to 350°f.  steam spinach until soft  drain and set aside.  using a glass or metal mixing bowl on top of a saucepan 1/2 full with water (double broiler method  break chocolate into small pieces and add butter  melt over hot but not boilin ...\n",
      "==================================================\n"
     ]
    },
    {
     "name": "stderr",
     "output_type": "stream",
     "text": [
      "\n"
     ]
    }
   ],
   "source": [
    "results = retriever.query(\"What can I cook with spinach and chocolate and wood?\", k=3)\n",
    "\n",
    "for r in results:\n",
    "    print(\"🍽️\", r['name'])\n",
    "    print(\"🧂 Ingredients:\", r['ingredients'])\n",
    "    print(\"📋 Steps:\", r['steps'][:250], \"...\")\n",
    "    print(\"=\"*50)"
   ]
  },
  {
   "cell_type": "code",
   "execution_count": 3,
   "id": "fb369d25",
   "metadata": {},
   "outputs": [
    {
     "name": "stderr",
     "output_type": "stream",
     "text": [
      "/Users/ferdaousbouzaiene/.pyenv/versions/3.12.9/envs/myenv/lib/python3.12/site-packages/tqdm/auto.py:21: TqdmWarning: IProgress not found. Please update jupyter and ipywidgets. See https://ipywidgets.readthedocs.io/en/stable/user_install.html\n",
      "  from .autonotebook import tqdm as notebook_tqdm\n"
     ]
    },
    {
     "name": "stdout",
     "output_type": "stream",
     "text": [
      "🍽️ Marinated Tofu\n",
      "🧂 Ingredients: firm tofu  soy sauce\n",
      "📋 Steps: in a medium bowl add tofu  red chili flakes  soy sauce and rice wine vinegar.  stir making sure tofu is covered.  let tofu sit for 10 minutes....\n",
      "\n",
      "🍽️ Tofu With Garlic Mirin Sauce\n",
      "🧂 Ingredients: extra firm tofu  mirin  soy sauce  tamari  water  sugar  cornstarch  garlic clove\n",
      "📋 Steps: slice tofu into 1/4 inch strips.  heat a non-stick skillet over medium-high heat  and add cooking oil.  fry tofu until light golden  making sure both sides are browned.  remove tofu to paper-towel lined plate.  stir all sauce ingredients in a small bowl  adding the sesame oil last.  pour mixture int...\n",
      "\n",
      "🍽️ Chunky, Savory Stir Fried Tofu\n",
      "🧂 Ingredients: extra firm tofu  yellow onion  soy sauce  white wine  vegetable broth  brown rice\n",
      "📋 Steps: brown onions in 2 tablespoons of sesame oil.  add tofu  cover and fry on medium-high for about 10 minutes  turning periodically to brown evenly.  mix together 1/2 cup soy sauce  1/4 cup white wine  1/8 cup sesame oil and 1 cup vegetable broth  pour over tofu in pan  cover and cook until the sauce re...\n"
     ]
    }
   ],
   "source": [
    "from src.agents.flavorbot import run_flavorbot\n",
    "\n",
    "response = run_flavorbot(\"What can I cook with tofu and soy sauce?\")\n",
    "print(response)\n"
   ]
  },
  {
   "cell_type": "code",
   "execution_count": 7,
   "id": "57089092",
   "metadata": {},
   "outputs": [
    {
     "name": "stdout",
     "output_type": "stream",
     "text": [
      "🍽️ Marinated Tofu\n",
      "🧂 Ingredients: firm tofu  soy sauce\n",
      "📋 Steps: in a medium bowl add tofu  red chili flakes  soy sauce and rice wine vinegar.  stir making sure tofu is covered.  let tofu sit for 10 minutes....\n",
      "\n",
      "🍽️ Tofu With Garlic Mirin Sauce\n",
      "🧂 Ingredients: extra firm tofu  mirin  soy sauce  tamari  water  sugar  cornstarch  garlic clove\n",
      "📋 Steps: slice tofu into 1/4 inch strips.  heat a non-stick skillet over medium-high heat  and add cooking oil.  fry tofu until light golden  making sure both sides are browned.  remove tofu to paper-towel lined plate.  stir all sauce ingredients in a small bowl  adding the sesame oil last.  pour mixture int...\n",
      "\n",
      "🍽️ Chunky, Savory Stir Fried Tofu\n",
      "🧂 Ingredients: extra firm tofu  yellow onion  soy sauce  white wine  vegetable broth  brown rice\n",
      "📋 Steps: brown onions in 2 tablespoons of sesame oil.  add tofu  cover and fry on medium-high for about 10 minutes  turning periodically to brown evenly.  mix together 1/2 cup soy sauce  1/4 cup white wine  1/8 cup sesame oil and 1 cup vegetable broth  pour over tofu in pan  cover and cook until the sauce re...\n"
     ]
    }
   ],
   "source": [
    "from src.agents.flavorbot import run_flavorbot\n",
    "\n",
    "response = run_flavorbot(\"What can I cook with tofu and soy sauce?\")\n",
    "print(response)\n"
   ]
  },
  {
   "cell_type": "code",
   "execution_count": null,
   "id": "a133f805",
   "metadata": {},
   "outputs": [],
   "source": []
  },
  {
   "cell_type": "code",
   "execution_count": 1,
   "id": "3b9f8a1b",
   "metadata": {},
   "outputs": [],
   "source": [
    "import sys"
   ]
  },
  {
   "cell_type": "code",
   "execution_count": 2,
   "id": "9d11dec7",
   "metadata": {},
   "outputs": [
    {
     "name": "stdout",
     "output_type": "stream",
     "text": [
      "['/Users/ferdaousbouzaiene/.pyenv/versions/3.12.9/lib/python312.zip', '/Users/ferdaousbouzaiene/.pyenv/versions/3.12.9/lib/python3.12', '/Users/ferdaousbouzaiene/.pyenv/versions/3.12.9/lib/python3.12/lib-dynload', '', '/Users/ferdaousbouzaiene/.pyenv/versions/3.12.9/envs/myenv/lib/python3.12/site-packages']\n"
     ]
    }
   ],
   "source": [
    "print(sys.path)\n"
   ]
  },
  {
   "cell_type": "code",
   "execution_count": null,
   "id": "09493d38",
   "metadata": {},
   "outputs": [],
   "source": []
  },
  {
   "cell_type": "code",
   "execution_count": null,
   "id": "6263a92a",
   "metadata": {},
   "outputs": [],
   "source": []
  },
  {
   "cell_type": "code",
   "execution_count": null,
   "id": "c709024b",
   "metadata": {},
   "outputs": [],
   "source": []
  },
  {
   "cell_type": "code",
   "execution_count": null,
   "id": "53d0f11c",
   "metadata": {},
   "outputs": [],
   "source": []
  },
  {
   "cell_type": "code",
   "execution_count": null,
   "id": "39fc5b32",
   "metadata": {},
   "outputs": [],
   "source": []
  },
  {
   "cell_type": "code",
   "execution_count": null,
   "id": "2805a74c",
   "metadata": {},
   "outputs": [],
   "source": []
  },
  {
   "cell_type": "code",
   "execution_count": null,
   "id": "9e33f51c",
   "metadata": {},
   "outputs": [],
   "source": []
  },
  {
   "cell_type": "code",
   "execution_count": null,
   "id": "97bf2514",
   "metadata": {},
   "outputs": [],
   "source": []
  },
  {
   "cell_type": "code",
   "execution_count": null,
   "id": "506c6c86",
   "metadata": {},
   "outputs": [],
   "source": []
  },
  {
   "cell_type": "code",
   "execution_count": null,
   "id": "a7df3ef3",
   "metadata": {},
   "outputs": [],
   "source": []
  }
 ],
 "metadata": {
  "kernelspec": {
   "display_name": "myenv",
   "language": "python",
   "name": "python3"
  },
  "language_info": {
   "codemirror_mode": {
    "name": "ipython",
    "version": 3
   },
   "file_extension": ".py",
   "mimetype": "text/x-python",
   "name": "python",
   "nbconvert_exporter": "python",
   "pygments_lexer": "ipython3",
   "version": "3.12.9"
  }
 },
 "nbformat": 4,
 "nbformat_minor": 5
}
